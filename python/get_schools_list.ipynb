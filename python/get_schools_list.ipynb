{
 "cells": [
  {
   "cell_type": "code",
   "execution_count": 1,
   "metadata": {},
   "outputs": [],
   "source": [
    "import requests\n",
    "from lxml import etree\n",
    "import pandas as pd"
   ]
  },
  {
   "cell_type": "markdown",
   "metadata": {},
   "source": [
    "## Get list of schools"
   ]
  },
  {
   "cell_type": "code",
   "execution_count": 2,
   "metadata": {},
   "outputs": [],
   "source": [
    "\n",
    "cookies = {\n",
    "    'wt3_eid': '%3B102571513503709%7C2160146290704027947%232160146290759585647',\n",
    "    'iom_consent': '00000000000000&1601533123020',\n",
    "    'ASP.NET_SessionId': 'ouejkp4wgik35tspqsen2hye',\n",
    "    'TS01f5869b': '01d33437f9384e7f1c01c3b51504ceef440f789c054731c85114203da201a96c66925129305ef0f2338e4e14ca0d7960f077033348007c136adbf5d051fd820a80c04d15e1',\n",
    "    'ioam2018': '001421f9702c7f9385f757495:1628749211649:1601533211649:.berlin.de:61:berlin:beberlin:noevent:1601539029670:2d32e9',\n",
    "    'wt3_sid': '%3B102571513503709',\n",
    "    'wt_rla': '102571513503709%2C1%2C1601539029846',\n",
    "}\n",
    "\n",
    "headers = {\n",
    "    'Connection': 'keep-alive',\n",
    "    'Cache-Control': 'no-cache',\n",
    "    'DNT': '1',\n",
    "    'X-Requested-With': 'XMLHttpRequest',\n",
    "    'X-MicrosoftAjax': 'Delta=true',\n",
    "    'User-Agent': 'Mozilla/5.0 (Windows NT 10.0; Win64; x64) AppleWebKit/537.36 (KHTML, like Gecko) Chrome/85.0.4183.121 Safari/537.36',\n",
    "    'Content-Type': 'application/x-www-form-urlencoded; charset=UTF-8',\n",
    "    'Accept': '*/*',\n",
    "    'Origin': 'https://www.bildung.berlin.de',\n",
    "    'Sec-Fetch-Site': 'same-origin',\n",
    "    'Sec-Fetch-Mode': 'cors',\n",
    "    'Sec-Fetch-Dest': 'empty',\n",
    "    'Referer': 'https://www.bildung.berlin.de/Umkreissuche/',\n",
    "    'Accept-Language': 'en-US,en;q=0.9,de;q=0.8,fr;q=0.7',\n",
    "}\n",
    "\n",
    "data = {\n",
    "  'ScriptManager1': 'UpdatePanelAdressdaten|btnSuchenUmkreis',\n",
    "  'ComboBoxPLZ$ComboBoxPLZ_TextBox': '10115',\n",
    "  'ComboBoxPLZ$ComboBoxPLZ_HiddenField': '0',\n",
    "  'ComboBoxStr$ComboBoxStr_TextBox': 'An der Kieler Br\\xFCcke',\n",
    "  'ComboBoxStr$ComboBoxStr_HiddenField': '3',\n",
    "  'ComboBoxHNR$ComboBoxHNR_TextBox': '023',\n",
    "  'ComboBoxHNR$ComboBoxHNR_HiddenField': '3',\n",
    "  'txtEntfernung': '500000',\n",
    "  '__EVENTTARGET': '',\n",
    "  '__EVENTARGUMENT': '',\n",
    "  '__LASTFOCUS': '',\n",
    "  '__VIEWSTATE': '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',\n",
    "  '__VIEWSTATEGENERATOR': 'A0D71EE4',\n",
    "  '__EVENTVALIDATION': 'dnmKhFg9m3G7ssRSClkmDRVa6TCIf1gbEhQOHRjeSKhfPK68QLnk/SweAogKuhNQ9VAng1PbWf2j/Mp5VQorP7CQQrAuXlOCvYL2vuSHkEmtR0Y6Z3/sIJtnycMvWK246AGDaDGWjwF7XZxv/JVChNvL/jPvBjQdO4H5/Chf/nXFXIpJoZ00SMGIn8VMbZ/bnMlcoz9yovpTYn+Hc9LROgB7BBnmqqYU/z7sksHxO/16/o81iywvUVvNTePP2WfvBLlJvi6kOHp8WG0Jjr5/XVnzQ0HE7FvvswYk2WNa/1JS+EErPxLHTBgLNFcLgDQ3kitHHUcDr+zBO9dihEnEE7ObDmUBCw6aEAUqZ3u+kSA=',\n",
    "  '__ASYNCPOST': 'true',\n",
    "  'btnSuchenUmkreis': 'Suchen'\n",
    "}\n",
    "\n",
    "response = requests.post('https://www.bildung.berlin.de/Umkreissuche/', headers=headers, cookies=cookies, data=data)\n"
   ]
  },
  {
   "cell_type": "code",
   "execution_count": 3,
   "metadata": {},
   "outputs": [],
   "source": [
    "tree = etree.HTML(response.text)\n",
    "links = tree.xpath('//table[@id=\"DataListUmkreisSchulen\"]//@href')"
   ]
  },
  {
   "cell_type": "code",
   "execution_count": 4,
   "metadata": {},
   "outputs": [],
   "source": [
    "df = pd.read_html(response.text, header=0)"
   ]
  },
  {
   "cell_type": "code",
   "execution_count": 6,
   "metadata": {},
   "outputs": [
    {
     "name": "stderr",
     "output_type": "stream",
     "text": [
      "D:\\Users\\BKU\\ClementLefevre\\AppData(Roaming)\\Python\\Python37\\site-packages\\ipykernel_launcher.py:3: SettingWithCopyWarning: \n",
      "A value is trying to be set on a copy of a slice from a DataFrame.\n",
      "Try using .loc[row_indexer,col_indexer] = value instead\n",
      "\n",
      "See the caveats in the documentation: https://pandas.pydata.org/pandas-docs/stable/user_guide/indexing.html#returning-a-view-versus-a-copy\n",
      "  This is separate from the ipykernel package so we can avoid doing imports until\n"
     ]
    }
   ],
   "source": [
    "df_schools = df[3]\n",
    "df_schools = df_schools[~df_schools[\"SchulNr\"].isna()]\n",
    "df_schools[\"url\"]=links"
   ]
  },
  {
   "cell_type": "code",
   "execution_count": 7,
   "metadata": {},
   "outputs": [],
   "source": [
    "df_schools.to_csv(\"schools_list.csv\")"
   ]
  },
  {
   "cell_type": "code",
   "execution_count": 8,
   "metadata": {},
   "outputs": [
    {
     "data": {
      "text/plain": [
       "array(['https://www.berlin.de/sen/bildung/schule/berliner-schulen/schulverzeichnis/Schulportrait.aspx?IDSchulzweig=22659',\n",
       "       'https://www.berlin.de/sen/bildung/schule/berliner-schulen/schulverzeichnis/Schulportrait.aspx?IDSchulzweig=22562',\n",
       "       'https://www.berlin.de/sen/bildung/schule/berliner-schulen/schulverzeichnis/Schulportrait.aspx?IDSchulzweig=22595',\n",
       "       ...,\n",
       "       'https://www.berlin.de/sen/bildung/schule/berliner-schulen/schulverzeichnis/Schulportrait.aspx?IDSchulzweig=22006',\n",
       "       'https://www.berlin.de/sen/bildung/schule/berliner-schulen/schulverzeichnis/Schulportrait.aspx?IDSchulzweig=22254',\n",
       "       'https://www.berlin.de/sen/bildung/schule/berliner-schulen/schulverzeichnis/Schulportrait.aspx?IDSchulzweig=21389'],\n",
       "      dtype=object)"
      ]
     },
     "execution_count": 8,
     "metadata": {},
     "output_type": "execute_result"
    }
   ],
   "source": [
    "df_schools.url.values"
   ]
  }
 ],
 "metadata": {
  "kernelspec": {
   "display_name": "Python 3",
   "language": "python",
   "name": "python3"
  },
  "language_info": {
   "codemirror_mode": {
    "name": "ipython",
    "version": 3
   },
   "file_extension": ".py",
   "mimetype": "text/x-python",
   "name": "python",
   "nbconvert_exporter": "python",
   "pygments_lexer": "ipython3",
   "version": "3.7.6"
  }
 },
 "nbformat": 4,
 "nbformat_minor": 4
}
